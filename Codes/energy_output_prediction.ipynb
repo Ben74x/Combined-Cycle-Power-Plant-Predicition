{
 "cells": [
  {
   "cell_type": "markdown",
   "metadata": {
    "colab_type": "text",
    "id": "3cbb7fRy-eyr"
   },
   "source": [
    "# Artificial Neural Network"
   ]
  },
  {
   "cell_type": "markdown",
   "metadata": {
    "colab_type": "text",
    "id": "8sNDnxE2-pwE"
   },
   "source": [
    "### Importing the libraries"
   ]
  },
  {
   "cell_type": "code",
   "execution_count": 1,
   "metadata": {},
   "outputs": [
    {
     "name": "stderr",
     "output_type": "stream",
     "text": [
      "2022-03-07 16:55:51.269612: W tensorflow/stream_executor/platform/default/dso_loader.cc:64] Could not load dynamic library 'libcudart.so.11.0'; dlerror: libcudart.so.11.0: cannot open shared object file: No such file or directory\n",
      "2022-03-07 16:55:51.269633: I tensorflow/stream_executor/cuda/cudart_stub.cc:29] Ignore above cudart dlerror if you do not have a GPU set up on your machine.\n"
     ]
    }
   ],
   "source": [
    "import pandas as pd\n",
    "import numpy as np\n",
    "import tensorflow as tf\n",
    "import warnings"
   ]
  },
  {
   "cell_type": "code",
   "execution_count": 2,
   "metadata": {},
   "outputs": [
    {
     "data": {
      "text/plain": [
       "'2.6.0'"
      ]
     },
     "execution_count": 2,
     "metadata": {},
     "output_type": "execute_result"
    }
   ],
   "source": [
    "tf.__version__"
   ]
  },
  {
   "cell_type": "markdown",
   "metadata": {
    "colab_type": "text",
    "id": "AG3FQEch-yuA"
   },
   "source": [
    "## Part 1 - Data Preprocessing"
   ]
  },
  {
   "cell_type": "markdown",
   "metadata": {
    "colab_type": "text",
    "id": "-4zq8Mza_D9O"
   },
   "source": [
    "### Importing the dataset"
   ]
  },
  {
   "cell_type": "code",
   "execution_count": 3,
   "metadata": {
    "scrolled": true
   },
   "outputs": [
    {
     "data": {
      "text/html": [
       "<div>\n",
       "<style scoped>\n",
       "    .dataframe tbody tr th:only-of-type {\n",
       "        vertical-align: middle;\n",
       "    }\n",
       "\n",
       "    .dataframe tbody tr th {\n",
       "        vertical-align: top;\n",
       "    }\n",
       "\n",
       "    .dataframe thead th {\n",
       "        text-align: right;\n",
       "    }\n",
       "</style>\n",
       "<table border=\"1\" class=\"dataframe\">\n",
       "  <thead>\n",
       "    <tr style=\"text-align: right;\">\n",
       "      <th></th>\n",
       "      <th>AT</th>\n",
       "      <th>V</th>\n",
       "      <th>AP</th>\n",
       "      <th>RH</th>\n",
       "      <th>PE</th>\n",
       "    </tr>\n",
       "  </thead>\n",
       "  <tbody>\n",
       "    <tr>\n",
       "      <th>0</th>\n",
       "      <td>14.96</td>\n",
       "      <td>41.76</td>\n",
       "      <td>1024.07</td>\n",
       "      <td>73.17</td>\n",
       "      <td>463.26</td>\n",
       "    </tr>\n",
       "    <tr>\n",
       "      <th>1</th>\n",
       "      <td>25.18</td>\n",
       "      <td>62.96</td>\n",
       "      <td>1020.04</td>\n",
       "      <td>59.08</td>\n",
       "      <td>444.37</td>\n",
       "    </tr>\n",
       "    <tr>\n",
       "      <th>2</th>\n",
       "      <td>5.11</td>\n",
       "      <td>39.40</td>\n",
       "      <td>1012.16</td>\n",
       "      <td>92.14</td>\n",
       "      <td>488.56</td>\n",
       "    </tr>\n",
       "    <tr>\n",
       "      <th>3</th>\n",
       "      <td>20.86</td>\n",
       "      <td>57.32</td>\n",
       "      <td>1010.24</td>\n",
       "      <td>76.64</td>\n",
       "      <td>446.48</td>\n",
       "    </tr>\n",
       "    <tr>\n",
       "      <th>4</th>\n",
       "      <td>10.82</td>\n",
       "      <td>37.50</td>\n",
       "      <td>1009.23</td>\n",
       "      <td>96.62</td>\n",
       "      <td>473.90</td>\n",
       "    </tr>\n",
       "  </tbody>\n",
       "</table>\n",
       "</div>"
      ],
      "text/plain": [
       "      AT      V       AP     RH      PE\n",
       "0  14.96  41.76  1024.07  73.17  463.26\n",
       "1  25.18  62.96  1020.04  59.08  444.37\n",
       "2   5.11  39.40  1012.16  92.14  488.56\n",
       "3  20.86  57.32  1010.24  76.64  446.48\n",
       "4  10.82  37.50  1009.23  96.62  473.90"
      ]
     },
     "execution_count": 3,
     "metadata": {},
     "output_type": "execute_result"
    }
   ],
   "source": [
    "dataset = pd.read_excel('Folds5x2_pp.xlsx')\n",
    "dataset.head()"
   ]
  },
  {
   "cell_type": "markdown",
   "metadata": {},
   "source": [
    "### Dataset checks"
   ]
  },
  {
   "cell_type": "code",
   "execution_count": 4,
   "metadata": {},
   "outputs": [
    {
     "data": {
      "text/plain": [
       "(9568, 5)"
      ]
     },
     "execution_count": 4,
     "metadata": {},
     "output_type": "execute_result"
    }
   ],
   "source": [
    "# Dimension of dataset\n",
    "dataset.shape"
   ]
  },
  {
   "cell_type": "code",
   "execution_count": 5,
   "metadata": {},
   "outputs": [
    {
     "name": "stdout",
     "output_type": "stream",
     "text": [
      "<class 'pandas.core.frame.DataFrame'>\n",
      "RangeIndex: 9568 entries, 0 to 9567\n",
      "Data columns (total 5 columns):\n",
      " #   Column  Non-Null Count  Dtype  \n",
      "---  ------  --------------  -----  \n",
      " 0   AT      9568 non-null   float64\n",
      " 1   V       9568 non-null   float64\n",
      " 2   AP      9568 non-null   float64\n",
      " 3   RH      9568 non-null   float64\n",
      " 4   PE      9568 non-null   float64\n",
      "dtypes: float64(5)\n",
      "memory usage: 373.9 KB\n"
     ]
    }
   ],
   "source": [
    "# Dataset info\n",
    "dataset.info()"
   ]
  },
  {
   "cell_type": "code",
   "execution_count": 6,
   "metadata": {},
   "outputs": [
    {
     "data": {
      "text/html": [
       "<div>\n",
       "<style scoped>\n",
       "    .dataframe tbody tr th:only-of-type {\n",
       "        vertical-align: middle;\n",
       "    }\n",
       "\n",
       "    .dataframe tbody tr th {\n",
       "        vertical-align: top;\n",
       "    }\n",
       "\n",
       "    .dataframe thead th {\n",
       "        text-align: right;\n",
       "    }\n",
       "</style>\n",
       "<table border=\"1\" class=\"dataframe\">\n",
       "  <thead>\n",
       "    <tr style=\"text-align: right;\">\n",
       "      <th></th>\n",
       "      <th>AT</th>\n",
       "      <th>V</th>\n",
       "      <th>AP</th>\n",
       "      <th>RH</th>\n",
       "      <th>PE</th>\n",
       "    </tr>\n",
       "  </thead>\n",
       "  <tbody>\n",
       "    <tr>\n",
       "      <th>count</th>\n",
       "      <td>9568.000000</td>\n",
       "      <td>9568.000000</td>\n",
       "      <td>9568.000000</td>\n",
       "      <td>9568.000000</td>\n",
       "      <td>9568.000000</td>\n",
       "    </tr>\n",
       "    <tr>\n",
       "      <th>mean</th>\n",
       "      <td>19.651231</td>\n",
       "      <td>54.305804</td>\n",
       "      <td>1013.259078</td>\n",
       "      <td>73.308978</td>\n",
       "      <td>454.365009</td>\n",
       "    </tr>\n",
       "    <tr>\n",
       "      <th>std</th>\n",
       "      <td>7.452473</td>\n",
       "      <td>12.707893</td>\n",
       "      <td>5.938784</td>\n",
       "      <td>14.600269</td>\n",
       "      <td>17.066995</td>\n",
       "    </tr>\n",
       "    <tr>\n",
       "      <th>min</th>\n",
       "      <td>1.810000</td>\n",
       "      <td>25.360000</td>\n",
       "      <td>992.890000</td>\n",
       "      <td>25.560000</td>\n",
       "      <td>420.260000</td>\n",
       "    </tr>\n",
       "    <tr>\n",
       "      <th>25%</th>\n",
       "      <td>13.510000</td>\n",
       "      <td>41.740000</td>\n",
       "      <td>1009.100000</td>\n",
       "      <td>63.327500</td>\n",
       "      <td>439.750000</td>\n",
       "    </tr>\n",
       "    <tr>\n",
       "      <th>50%</th>\n",
       "      <td>20.345000</td>\n",
       "      <td>52.080000</td>\n",
       "      <td>1012.940000</td>\n",
       "      <td>74.975000</td>\n",
       "      <td>451.550000</td>\n",
       "    </tr>\n",
       "    <tr>\n",
       "      <th>75%</th>\n",
       "      <td>25.720000</td>\n",
       "      <td>66.540000</td>\n",
       "      <td>1017.260000</td>\n",
       "      <td>84.830000</td>\n",
       "      <td>468.430000</td>\n",
       "    </tr>\n",
       "    <tr>\n",
       "      <th>max</th>\n",
       "      <td>37.110000</td>\n",
       "      <td>81.560000</td>\n",
       "      <td>1033.300000</td>\n",
       "      <td>100.160000</td>\n",
       "      <td>495.760000</td>\n",
       "    </tr>\n",
       "  </tbody>\n",
       "</table>\n",
       "</div>"
      ],
      "text/plain": [
       "                AT            V           AP           RH           PE\n",
       "count  9568.000000  9568.000000  9568.000000  9568.000000  9568.000000\n",
       "mean     19.651231    54.305804  1013.259078    73.308978   454.365009\n",
       "std       7.452473    12.707893     5.938784    14.600269    17.066995\n",
       "min       1.810000    25.360000   992.890000    25.560000   420.260000\n",
       "25%      13.510000    41.740000  1009.100000    63.327500   439.750000\n",
       "50%      20.345000    52.080000  1012.940000    74.975000   451.550000\n",
       "75%      25.720000    66.540000  1017.260000    84.830000   468.430000\n",
       "max      37.110000    81.560000  1033.300000   100.160000   495.760000"
      ]
     },
     "execution_count": 6,
     "metadata": {},
     "output_type": "execute_result"
    }
   ],
   "source": [
    "# Dataset summary\n",
    "dataset.describe()"
   ]
  },
  {
   "cell_type": "markdown",
   "metadata": {
    "colab_type": "text",
    "id": "VC6omXel_Up0"
   },
   "source": [
    "### Splitting the dataset into the Training set and Test set"
   ]
  },
  {
   "cell_type": "code",
   "execution_count": 7,
   "metadata": {},
   "outputs": [
    {
     "name": "stdout",
     "output_type": "stream",
     "text": [
      "[[  14.96   41.76 1024.07   73.17]\n",
      " [  25.18   62.96 1020.04   59.08]\n",
      " [   5.11   39.4  1012.16   92.14]\n",
      " ...\n",
      " [  31.32   74.33 1012.92   36.48]\n",
      " [  24.48   69.45 1013.86   62.39]\n",
      " [  21.6    62.52 1017.23   67.87]]\n",
      "[463.26 444.37 488.56 ... 429.57 435.74 453.28]\n"
     ]
    }
   ],
   "source": [
    "X = dataset.iloc[:, :-1].values\n",
    "y = dataset.iloc[:, -1].values\n",
    "print(X)\n",
    "print(y)"
   ]
  },
  {
   "cell_type": "code",
   "execution_count": 8,
   "metadata": {},
   "outputs": [],
   "source": [
    "from sklearn.model_selection import train_test_split\n",
    "X_train, X_test, y_train, y_test = train_test_split(X, y, test_size=0.20, random_state=0)"
   ]
  },
  {
   "cell_type": "markdown",
   "metadata": {
    "colab_type": "text",
    "id": "_mSLlAT9_eyI"
   },
   "source": [
    "## Part 2 - Building the ANN"
   ]
  },
  {
   "cell_type": "markdown",
   "metadata": {
    "colab_type": "text",
    "id": "CsBULd_f_wLY"
   },
   "source": [
    "### Initializing the ANN"
   ]
  },
  {
   "cell_type": "code",
   "execution_count": 9,
   "metadata": {},
   "outputs": [
    {
     "name": "stderr",
     "output_type": "stream",
     "text": [
      "2022-03-07 16:55:55.396127: E tensorflow/stream_executor/cuda/cuda_driver.cc:271] failed call to cuInit: CUDA_ERROR_NO_DEVICE: no CUDA-capable device is detected\n",
      "2022-03-07 16:55:55.396153: I tensorflow/stream_executor/cuda/cuda_diagnostics.cc:156] kernel driver does not appear to be running on this host (bdwumah74-Alienware): /proc/driver/nvidia/version does not exist\n",
      "2022-03-07 16:55:55.396450: I tensorflow/core/platform/cpu_feature_guard.cc:142] This TensorFlow binary is optimized with oneAPI Deep Neural Network Library (oneDNN) to use the following CPU instructions in performance-critical operations:  AVX2 FMA\n",
      "To enable them in other operations, rebuild TensorFlow with the appropriate compiler flags.\n"
     ]
    }
   ],
   "source": [
    "ann = tf.keras.models.Sequential()"
   ]
  },
  {
   "cell_type": "markdown",
   "metadata": {
    "colab_type": "text",
    "id": "iitAFJS_ABUn"
   },
   "source": [
    "### Adding the input layer and the first hidden layer"
   ]
  },
  {
   "cell_type": "code",
   "execution_count": 10,
   "metadata": {},
   "outputs": [],
   "source": [
    "ann.add(tf.keras.layers.Dense(units=8, activation='relu'))"
   ]
  },
  {
   "cell_type": "markdown",
   "metadata": {
    "colab_type": "text",
    "id": "-lb4kK_wAKbs"
   },
   "source": [
    "### Adding the second hidden layer"
   ]
  },
  {
   "cell_type": "code",
   "execution_count": 11,
   "metadata": {},
   "outputs": [],
   "source": [
    "ann.add(tf.keras.layers.Dense(units=8, activation='relu'))"
   ]
  },
  {
   "cell_type": "markdown",
   "metadata": {
    "colab_type": "text",
    "id": "jwMOmKb3AdBY"
   },
   "source": [
    "### Adding the output layer"
   ]
  },
  {
   "cell_type": "code",
   "execution_count": 12,
   "metadata": {},
   "outputs": [],
   "source": [
    "ann.add(tf.keras.layers.Dense(units=1))"
   ]
  },
  {
   "cell_type": "markdown",
   "metadata": {
    "colab_type": "text",
    "id": "fq7e4fF6A1yy"
   },
   "source": [
    "## Part 3 - Training the ANN"
   ]
  },
  {
   "cell_type": "markdown",
   "metadata": {
    "colab_type": "text",
    "id": "qDeylAs2An25"
   },
   "source": [
    "### Compiling the ANN"
   ]
  },
  {
   "cell_type": "code",
   "execution_count": 13,
   "metadata": {},
   "outputs": [],
   "source": [
    "ann.compile(optimizer='adam', loss= 'mean_squared_error')"
   ]
  },
  {
   "cell_type": "markdown",
   "metadata": {
    "colab_type": "text",
    "id": "YjVuiybYOo7r"
   },
   "source": [
    "### Training the ANN model on the Training set"
   ]
  },
  {
   "cell_type": "code",
   "execution_count": 14,
   "metadata": {},
   "outputs": [
    {
     "name": "stderr",
     "output_type": "stream",
     "text": [
      "2022-03-07 16:55:55.792777: I tensorflow/compiler/mlir/mlir_graph_optimization_pass.cc:185] None of the MLIR Optimization Passes are enabled (registered 2)\n"
     ]
    },
    {
     "name": "stdout",
     "output_type": "stream",
     "text": [
      "Epoch 1/200\n",
      "240/240 [==============================] - 0s 736us/step - loss: 165105.2344\n",
      "Epoch 2/200\n",
      "240/240 [==============================] - 0s 798us/step - loss: 1933.2551\n",
      "Epoch 3/200\n",
      "240/240 [==============================] - 0s 803us/step - loss: 154.7609\n",
      "Epoch 4/200\n",
      "240/240 [==============================] - 0s 805us/step - loss: 151.6079\n",
      "Epoch 5/200\n",
      "240/240 [==============================] - 0s 798us/step - loss: 147.9425\n",
      "Epoch 6/200\n",
      "240/240 [==============================] - 0s 783us/step - loss: 143.8431\n",
      "Epoch 7/200\n",
      "240/240 [==============================] - 0s 783us/step - loss: 139.2336\n",
      "Epoch 8/200\n",
      "240/240 [==============================] - 0s 781us/step - loss: 134.4087\n",
      "Epoch 9/200\n",
      "240/240 [==============================] - 0s 802us/step - loss: 128.8198\n",
      "Epoch 10/200\n",
      "240/240 [==============================] - 0s 824us/step - loss: 123.1036\n",
      "Epoch 11/200\n",
      "240/240 [==============================] - 0s 831us/step - loss: 117.1507\n",
      "Epoch 12/200\n",
      "240/240 [==============================] - 0s 910us/step - loss: 110.9480\n",
      "Epoch 13/200\n",
      "240/240 [==============================] - 0s 894us/step - loss: 104.5841\n",
      "Epoch 14/200\n",
      "240/240 [==============================] - 0s 890us/step - loss: 98.0448\n",
      "Epoch 15/200\n",
      "240/240 [==============================] - 0s 907us/step - loss: 91.7312\n",
      "Epoch 16/200\n",
      "240/240 [==============================] - 0s 1ms/step - loss: 85.5487\n",
      "Epoch 17/200\n",
      "240/240 [==============================] - 0s 1ms/step - loss: 79.4186\n",
      "Epoch 18/200\n",
      "240/240 [==============================] - 0s 754us/step - loss: 73.5144\n",
      "Epoch 19/200\n",
      "240/240 [==============================] - 0s 779us/step - loss: 67.8775\n",
      "Epoch 20/200\n",
      "240/240 [==============================] - 0s 733us/step - loss: 62.6334\n",
      "Epoch 21/200\n",
      "240/240 [==============================] - 0s 829us/step - loss: 57.9303\n",
      "Epoch 22/200\n",
      "240/240 [==============================] - 0s 967us/step - loss: 53.0565\n",
      "Epoch 23/200\n",
      "240/240 [==============================] - 0s 858us/step - loss: 48.8124\n",
      "Epoch 24/200\n",
      "240/240 [==============================] - 0s 1ms/step - loss: 45.0927\n",
      "Epoch 25/200\n",
      "240/240 [==============================] - 0s 913us/step - loss: 42.0879\n",
      "Epoch 26/200\n",
      "240/240 [==============================] - 0s 869us/step - loss: 39.1638\n",
      "Epoch 27/200\n",
      "240/240 [==============================] - 0s 906us/step - loss: 36.5445\n",
      "Epoch 28/200\n",
      "240/240 [==============================] - 0s 896us/step - loss: 34.4047\n",
      "Epoch 29/200\n",
      "240/240 [==============================] - 0s 895us/step - loss: 33.1827\n",
      "Epoch 30/200\n",
      "240/240 [==============================] - 0s 808us/step - loss: 31.8375\n",
      "Epoch 31/200\n",
      "240/240 [==============================] - 0s 864us/step - loss: 30.6628\n",
      "Epoch 32/200\n",
      "240/240 [==============================] - 0s 894us/step - loss: 29.9115\n",
      "Epoch 33/200\n",
      "240/240 [==============================] - 0s 893us/step - loss: 29.5749\n",
      "Epoch 34/200\n",
      "240/240 [==============================] - 0s 879us/step - loss: 29.1504\n",
      "Epoch 35/200\n",
      "240/240 [==============================] - 0s 803us/step - loss: 29.0744\n",
      "Epoch 36/200\n",
      "240/240 [==============================] - 0s 1ms/step - loss: 28.7298\n",
      "Epoch 37/200\n",
      "240/240 [==============================] - 0s 1ms/step - loss: 28.5871\n",
      "Epoch 38/200\n",
      "240/240 [==============================] - 0s 794us/step - loss: 28.1989\n",
      "Epoch 39/200\n",
      "240/240 [==============================] - 0s 725us/step - loss: 27.6412\n",
      "Epoch 40/200\n",
      "240/240 [==============================] - 0s 800us/step - loss: 28.2187\n",
      "Epoch 41/200\n",
      "240/240 [==============================] - 0s 2ms/step - loss: 27.6397\n",
      "Epoch 42/200\n",
      "240/240 [==============================] - 0s 2ms/step - loss: 28.0915\n",
      "Epoch 43/200\n",
      "240/240 [==============================] - 0s 963us/step - loss: 27.4535\n",
      "Epoch 44/200\n",
      "240/240 [==============================] - 0s 1ms/step - loss: 27.2454\n",
      "Epoch 45/200\n",
      "240/240 [==============================] - 0s 901us/step - loss: 27.1523\n",
      "Epoch 46/200\n",
      "240/240 [==============================] - 0s 971us/step - loss: 27.4733\n",
      "Epoch 47/200\n",
      "240/240 [==============================] - 0s 969us/step - loss: 26.8654\n",
      "Epoch 48/200\n",
      "240/240 [==============================] - 0s 1ms/step - loss: 27.3445\n",
      "Epoch 49/200\n",
      "240/240 [==============================] - 0s 822us/step - loss: 27.0957\n",
      "Epoch 50/200\n",
      "240/240 [==============================] - 0s 822us/step - loss: 26.8098\n",
      "Epoch 51/200\n",
      "240/240 [==============================] - 0s 841us/step - loss: 27.1212\n",
      "Epoch 52/200\n",
      "240/240 [==============================] - 0s 843us/step - loss: 26.5658\n",
      "Epoch 53/200\n",
      "240/240 [==============================] - 0s 909us/step - loss: 26.5858\n",
      "Epoch 54/200\n",
      "240/240 [==============================] - 0s 954us/step - loss: 26.9316\n",
      "Epoch 55/200\n",
      "240/240 [==============================] - 0s 751us/step - loss: 26.5467\n",
      "Epoch 56/200\n",
      "240/240 [==============================] - 0s 685us/step - loss: 26.8087\n",
      "Epoch 57/200\n",
      "240/240 [==============================] - 0s 670us/step - loss: 26.8115\n",
      "Epoch 58/200\n",
      "240/240 [==============================] - 0s 696us/step - loss: 26.8982\n",
      "Epoch 59/200\n",
      "240/240 [==============================] - 0s 684us/step - loss: 26.8758\n",
      "Epoch 60/200\n",
      "240/240 [==============================] - 0s 681us/step - loss: 26.6211\n",
      "Epoch 61/200\n",
      "240/240 [==============================] - 0s 706us/step - loss: 26.7157\n",
      "Epoch 62/200\n",
      "240/240 [==============================] - 0s 693us/step - loss: 27.1165\n",
      "Epoch 63/200\n",
      "240/240 [==============================] - 0s 688us/step - loss: 26.3933\n",
      "Epoch 64/200\n",
      "240/240 [==============================] - 0s 724us/step - loss: 26.4368\n",
      "Epoch 65/200\n",
      "240/240 [==============================] - 0s 683us/step - loss: 26.3157\n",
      "Epoch 66/200\n",
      "240/240 [==============================] - 0s 691us/step - loss: 27.0757\n",
      "Epoch 67/200\n",
      "240/240 [==============================] - 0s 687us/step - loss: 26.7124\n",
      "Epoch 68/200\n",
      "240/240 [==============================] - 0s 723us/step - loss: 26.6326\n",
      "Epoch 69/200\n",
      "240/240 [==============================] - 0s 867us/step - loss: 26.4549\n",
      "Epoch 70/200\n",
      "240/240 [==============================] - 0s 904us/step - loss: 26.7960\n",
      "Epoch 71/200\n",
      "240/240 [==============================] - 0s 751us/step - loss: 26.6845\n",
      "Epoch 72/200\n",
      "240/240 [==============================] - 0s 806us/step - loss: 26.2714\n",
      "Epoch 73/200\n",
      "240/240 [==============================] - 0s 775us/step - loss: 26.8866\n",
      "Epoch 74/200\n",
      "240/240 [==============================] - 0s 749us/step - loss: 26.6193\n",
      "Epoch 75/200\n",
      "240/240 [==============================] - 0s 744us/step - loss: 26.4079\n",
      "Epoch 76/200\n",
      "240/240 [==============================] - 0s 743us/step - loss: 26.4457\n",
      "Epoch 77/200\n",
      "240/240 [==============================] - 0s 771us/step - loss: 26.2756\n",
      "Epoch 78/200\n",
      "240/240 [==============================] - 0s 750us/step - loss: 26.7830\n",
      "Epoch 79/200\n",
      "240/240 [==============================] - 0s 757us/step - loss: 26.7731\n",
      "Epoch 80/200\n",
      "240/240 [==============================] - 0s 701us/step - loss: 26.5475\n",
      "Epoch 81/200\n",
      "240/240 [==============================] - 0s 719us/step - loss: 26.5846\n",
      "Epoch 82/200\n",
      "240/240 [==============================] - 0s 705us/step - loss: 26.4092\n",
      "Epoch 83/200\n",
      "240/240 [==============================] - 0s 712us/step - loss: 26.4798\n",
      "Epoch 84/200\n",
      "240/240 [==============================] - 0s 691us/step - loss: 26.3454\n",
      "Epoch 85/200\n",
      "240/240 [==============================] - 0s 726us/step - loss: 27.0013\n",
      "Epoch 86/200\n",
      "240/240 [==============================] - 0s 749us/step - loss: 26.8056\n",
      "Epoch 87/200\n",
      "240/240 [==============================] - 0s 761us/step - loss: 26.5882\n",
      "Epoch 88/200\n",
      "240/240 [==============================] - 0s 934us/step - loss: 26.2989\n",
      "Epoch 89/200\n",
      "240/240 [==============================] - 0s 782us/step - loss: 26.5060\n",
      "Epoch 90/200\n",
      "240/240 [==============================] - 0s 921us/step - loss: 26.3251\n",
      "Epoch 91/200\n",
      "240/240 [==============================] - 0s 925us/step - loss: 26.5162\n",
      "Epoch 92/200\n",
      "240/240 [==============================] - 0s 809us/step - loss: 26.9943\n",
      "Epoch 93/200\n",
      "240/240 [==============================] - 0s 811us/step - loss: 26.7002\n",
      "Epoch 94/200\n",
      "240/240 [==============================] - 0s 894us/step - loss: 26.3952\n",
      "Epoch 95/200\n",
      "240/240 [==============================] - 0s 758us/step - loss: 26.5806\n",
      "Epoch 96/200\n"
     ]
    },
    {
     "name": "stdout",
     "output_type": "stream",
     "text": [
      "240/240 [==============================] - 0s 742us/step - loss: 26.6565\n",
      "Epoch 97/200\n",
      "240/240 [==============================] - 0s 940us/step - loss: 26.7163\n",
      "Epoch 98/200\n",
      "240/240 [==============================] - 0s 989us/step - loss: 26.6669\n",
      "Epoch 99/200\n",
      "240/240 [==============================] - 0s 871us/step - loss: 26.5523\n",
      "Epoch 100/200\n",
      "240/240 [==============================] - 0s 749us/step - loss: 26.9256\n",
      "Epoch 101/200\n",
      "240/240 [==============================] - 0s 948us/step - loss: 26.6220\n",
      "Epoch 102/200\n",
      "240/240 [==============================] - 0s 794us/step - loss: 26.7942\n",
      "Epoch 103/200\n",
      "240/240 [==============================] - 0s 776us/step - loss: 27.0176\n",
      "Epoch 104/200\n",
      "240/240 [==============================] - 0s 779us/step - loss: 26.2837\n",
      "Epoch 105/200\n",
      "240/240 [==============================] - 0s 766us/step - loss: 26.9687\n",
      "Epoch 106/200\n",
      "240/240 [==============================] - 0s 859us/step - loss: 26.3349\n",
      "Epoch 107/200\n",
      "240/240 [==============================] - 0s 876us/step - loss: 26.7313\n",
      "Epoch 108/200\n",
      "240/240 [==============================] - 0s 808us/step - loss: 26.5380\n",
      "Epoch 109/200\n",
      "240/240 [==============================] - 0s 934us/step - loss: 26.4913\n",
      "Epoch 110/200\n",
      "240/240 [==============================] - 0s 783us/step - loss: 26.6424\n",
      "Epoch 111/200\n",
      "240/240 [==============================] - 0s 779us/step - loss: 26.3701\n",
      "Epoch 112/200\n",
      "240/240 [==============================] - 0s 767us/step - loss: 26.9810\n",
      "Epoch 113/200\n",
      "240/240 [==============================] - 0s 965us/step - loss: 26.8634\n",
      "Epoch 114/200\n",
      "240/240 [==============================] - 0s 839us/step - loss: 26.4673\n",
      "Epoch 115/200\n",
      "240/240 [==============================] - 0s 829us/step - loss: 26.5288\n",
      "Epoch 116/200\n",
      "240/240 [==============================] - 0s 945us/step - loss: 26.4616\n",
      "Epoch 117/200\n",
      "240/240 [==============================] - 0s 761us/step - loss: 26.9753\n",
      "Epoch 118/200\n",
      "240/240 [==============================] - 0s 784us/step - loss: 26.4547\n",
      "Epoch 119/200\n",
      "240/240 [==============================] - 0s 775us/step - loss: 26.5047\n",
      "Epoch 120/200\n",
      "240/240 [==============================] - 0s 746us/step - loss: 26.2217\n",
      "Epoch 121/200\n",
      "240/240 [==============================] - 0s 966us/step - loss: 26.9223\n",
      "Epoch 122/200\n",
      "240/240 [==============================] - 0s 792us/step - loss: 26.4243\n",
      "Epoch 123/200\n",
      "240/240 [==============================] - 0s 780us/step - loss: 26.7493\n",
      "Epoch 124/200\n",
      "240/240 [==============================] - 0s 785us/step - loss: 26.5383\n",
      "Epoch 125/200\n",
      "240/240 [==============================] - 0s 759us/step - loss: 26.9709\n",
      "Epoch 126/200\n",
      "240/240 [==============================] - 0s 776us/step - loss: 26.5287\n",
      "Epoch 127/200\n",
      "240/240 [==============================] - 0s 768us/step - loss: 26.3210\n",
      "Epoch 128/200\n",
      "240/240 [==============================] - 0s 766us/step - loss: 26.4908\n",
      "Epoch 129/200\n",
      "240/240 [==============================] - 0s 970us/step - loss: 26.5909\n",
      "Epoch 130/200\n",
      "240/240 [==============================] - 0s 824us/step - loss: 26.4443\n",
      "Epoch 131/200\n",
      "240/240 [==============================] - 0s 897us/step - loss: 26.6059\n",
      "Epoch 132/200\n",
      "240/240 [==============================] - 0s 784us/step - loss: 26.8724\n",
      "Epoch 133/200\n",
      "240/240 [==============================] - 0s 770us/step - loss: 26.3793\n",
      "Epoch 134/200\n",
      "240/240 [==============================] - 0s 907us/step - loss: 26.6313\n",
      "Epoch 135/200\n",
      "240/240 [==============================] - 0s 940us/step - loss: 26.6133\n",
      "Epoch 136/200\n",
      "240/240 [==============================] - 0s 801us/step - loss: 26.2625\n",
      "Epoch 137/200\n",
      "240/240 [==============================] - 0s 782us/step - loss: 26.3928\n",
      "Epoch 138/200\n",
      "240/240 [==============================] - 0s 782us/step - loss: 26.5742\n",
      "Epoch 139/200\n",
      "240/240 [==============================] - 0s 796us/step - loss: 26.5359\n",
      "Epoch 140/200\n",
      "240/240 [==============================] - 0s 786us/step - loss: 26.6514\n",
      "Epoch 141/200\n",
      "240/240 [==============================] - 0s 790us/step - loss: 26.6671\n",
      "Epoch 142/200\n",
      "240/240 [==============================] - 0s 779us/step - loss: 26.9934\n",
      "Epoch 143/200\n",
      "240/240 [==============================] - 0s 888us/step - loss: 26.4785\n",
      "Epoch 144/200\n",
      "240/240 [==============================] - 0s 984us/step - loss: 26.4829\n",
      "Epoch 145/200\n",
      "240/240 [==============================] - 0s 943us/step - loss: 26.5029\n",
      "Epoch 146/200\n",
      "240/240 [==============================] - 0s 817us/step - loss: 26.6034\n",
      "Epoch 147/200\n",
      "240/240 [==============================] - 0s 886us/step - loss: 26.5966\n",
      "Epoch 148/200\n",
      "240/240 [==============================] - 0s 859us/step - loss: 26.5545\n",
      "Epoch 149/200\n",
      "240/240 [==============================] - 0s 809us/step - loss: 26.3879\n",
      "Epoch 150/200\n",
      "240/240 [==============================] - 0s 950us/step - loss: 26.6964\n",
      "Epoch 151/200\n",
      "240/240 [==============================] - 0s 810us/step - loss: 26.8251\n",
      "Epoch 152/200\n",
      "240/240 [==============================] - 0s 822us/step - loss: 26.4601\n",
      "Epoch 153/200\n",
      "240/240 [==============================] - 0s 887us/step - loss: 26.8392\n",
      "Epoch 154/200\n",
      "240/240 [==============================] - 0s 827us/step - loss: 26.8099\n",
      "Epoch 155/200\n",
      "240/240 [==============================] - 0s 848us/step - loss: 26.5700\n",
      "Epoch 156/200\n",
      "240/240 [==============================] - 0s 820us/step - loss: 26.8927\n",
      "Epoch 157/200\n",
      "240/240 [==============================] - 0s 830us/step - loss: 26.8464\n",
      "Epoch 158/200\n",
      "240/240 [==============================] - 0s 842us/step - loss: 26.4872\n",
      "Epoch 159/200\n",
      "240/240 [==============================] - 0s 832us/step - loss: 26.5147\n",
      "Epoch 160/200\n",
      "240/240 [==============================] - 0s 776us/step - loss: 27.1287\n",
      "Epoch 161/200\n",
      "240/240 [==============================] - 0s 867us/step - loss: 26.3792\n",
      "Epoch 162/200\n",
      "240/240 [==============================] - 0s 785us/step - loss: 26.4723\n",
      "Epoch 163/200\n",
      "240/240 [==============================] - 0s 727us/step - loss: 26.4915\n",
      "Epoch 164/200\n",
      "240/240 [==============================] - 0s 847us/step - loss: 26.6069\n",
      "Epoch 165/200\n",
      "240/240 [==============================] - 0s 903us/step - loss: 26.7829\n",
      "Epoch 166/200\n",
      "240/240 [==============================] - 0s 827us/step - loss: 26.7325\n",
      "Epoch 167/200\n",
      "240/240 [==============================] - 0s 836us/step - loss: 26.9676\n",
      "Epoch 168/200\n",
      "240/240 [==============================] - 0s 914us/step - loss: 26.3434\n",
      "Epoch 169/200\n",
      "240/240 [==============================] - 0s 935us/step - loss: 26.4825\n",
      "Epoch 170/200\n",
      "240/240 [==============================] - 0s 847us/step - loss: 26.6289\n",
      "Epoch 171/200\n",
      "240/240 [==============================] - 0s 816us/step - loss: 26.8339\n",
      "Epoch 172/200\n",
      "240/240 [==============================] - 0s 826us/step - loss: 26.4692\n",
      "Epoch 173/200\n",
      "240/240 [==============================] - 0s 813us/step - loss: 26.7027\n",
      "Epoch 174/200\n",
      "240/240 [==============================] - 0s 758us/step - loss: 26.3348\n",
      "Epoch 175/200\n",
      "240/240 [==============================] - 0s 829us/step - loss: 26.4330\n",
      "Epoch 176/200\n",
      "240/240 [==============================] - 0s 856us/step - loss: 26.2055\n",
      "Epoch 177/200\n",
      "240/240 [==============================] - 0s 841us/step - loss: 27.2130\n",
      "Epoch 178/200\n",
      "240/240 [==============================] - 0s 843us/step - loss: 26.3932\n",
      "Epoch 179/200\n",
      "240/240 [==============================] - 0s 796us/step - loss: 26.5504\n",
      "Epoch 180/200\n",
      "240/240 [==============================] - 0s 761us/step - loss: 26.6922\n",
      "Epoch 181/200\n",
      "240/240 [==============================] - 0s 787us/step - loss: 26.9246\n",
      "Epoch 182/200\n",
      "240/240 [==============================] - 0s 805us/step - loss: 26.7959\n",
      "Epoch 183/200\n",
      "240/240 [==============================] - 0s 791us/step - loss: 26.2926\n",
      "Epoch 184/200\n",
      "240/240 [==============================] - 0s 814us/step - loss: 26.7203\n",
      "Epoch 185/200\n",
      "240/240 [==============================] - 0s 790us/step - loss: 26.6487\n",
      "Epoch 186/200\n",
      "240/240 [==============================] - 0s 809us/step - loss: 26.4619\n",
      "Epoch 187/200\n",
      "240/240 [==============================] - 0s 813us/step - loss: 26.6910\n",
      "Epoch 188/200\n",
      "240/240 [==============================] - 0s 797us/step - loss: 26.8926\n",
      "Epoch 189/200\n",
      "240/240 [==============================] - 0s 787us/step - loss: 26.5001\n",
      "Epoch 190/200\n"
     ]
    },
    {
     "name": "stdout",
     "output_type": "stream",
     "text": [
      "240/240 [==============================] - 0s 790us/step - loss: 26.6125\n",
      "Epoch 191/200\n",
      "240/240 [==============================] - 0s 739us/step - loss: 26.5554\n",
      "Epoch 192/200\n",
      "240/240 [==============================] - 0s 798us/step - loss: 26.7267\n",
      "Epoch 193/200\n",
      "240/240 [==============================] - 0s 789us/step - loss: 26.9452\n",
      "Epoch 194/200\n",
      "240/240 [==============================] - 0s 774us/step - loss: 26.7047\n",
      "Epoch 195/200\n",
      "240/240 [==============================] - 0s 797us/step - loss: 26.3372\n",
      "Epoch 196/200\n",
      "240/240 [==============================] - 0s 785us/step - loss: 26.4044\n",
      "Epoch 197/200\n",
      "240/240 [==============================] - 0s 795us/step - loss: 26.7438\n",
      "Epoch 198/200\n",
      "240/240 [==============================] - 0s 794us/step - loss: 26.8880\n",
      "Epoch 199/200\n",
      "240/240 [==============================] - 0s 807us/step - loss: 26.6432\n",
      "Epoch 200/200\n",
      "240/240 [==============================] - 0s 913us/step - loss: 26.4218\n"
     ]
    },
    {
     "data": {
      "text/plain": [
       "<keras.callbacks.History at 0x7fe6486db880>"
      ]
     },
     "execution_count": 14,
     "metadata": {},
     "output_type": "execute_result"
    }
   ],
   "source": [
    "ann.fit(X_train, y_train, batch_size=32, epochs=200)"
   ]
  },
  {
   "cell_type": "markdown",
   "metadata": {
    "colab_type": "text",
    "id": "0H0zKKNEBLD5"
   },
   "source": [
    "### Predicting the results of the Test set"
   ]
  },
  {
   "cell_type": "code",
   "execution_count": 19,
   "metadata": {
    "scrolled": true
   },
   "outputs": [
    {
     "name": "stdout",
     "output_type": "stream",
     "text": [
      "[[431.94 431.23]\n",
      " [462.98 460.01]\n",
      " [466.47 461.14]\n",
      " ...\n",
      " [473.74 473.26]\n",
      " [440.44 438.  ]\n",
      " [459.7  463.28]]\n"
     ]
    }
   ],
   "source": [
    "y_pred = ann.predict(X_test)\n",
    "np.set_printoptions(precision=2)\n",
    "print(np.concatenate((y_pred.reshape(len(y_pred), 1), y_test.reshape(len(y_test),1)), 1))"
   ]
  },
  {
   "cell_type": "code",
   "execution_count": 24,
   "metadata": {},
   "outputs": [
    {
     "data": {
      "text/plain": [
       "0.9146534730828172"
      ]
     },
     "execution_count": 24,
     "metadata": {},
     "output_type": "execute_result"
    }
   ],
   "source": [
    "from sklearn.metrics import r2_score\n",
    "r2_score(y_test, y_pred)"
   ]
  }
 ],
 "metadata": {
  "colab": {
   "collapsed_sections": [],
   "name": "Artificial Neural Network",
   "provenance": [],
   "toc_visible": true
  },
  "kernelspec": {
   "display_name": "Python 3 (ipykernel)",
   "language": "python",
   "name": "python3"
  },
  "language_info": {
   "codemirror_mode": {
    "name": "ipython",
    "version": 3
   },
   "file_extension": ".py",
   "mimetype": "text/x-python",
   "name": "python",
   "nbconvert_exporter": "python",
   "pygments_lexer": "ipython3",
   "version": "3.8.11"
  }
 },
 "nbformat": 4,
 "nbformat_minor": 1
}
